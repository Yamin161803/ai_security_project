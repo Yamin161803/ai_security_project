{
 "cells": [
  {
   "cell_type": "markdown",
   "metadata": {},
   "source": [
    "# Final project\n",
    "\n",
    "Philip Wollsén Ervius \\\n",
    "phao21@student.bth.se\n",
    "\n",
    "Amin Afzali \\\n",
    "moaf@student.bth.se"
   ]
  },
  {
   "cell_type": "markdown",
   "metadata": {},
   "source": [
    "### Libraries"
   ]
  },
  {
   "cell_type": "code",
<<<<<<< HEAD
   "execution_count": 162,
=======
   "execution_count": 23,
   "execution_count": 1,
>>>>>>> 4afb08c2a05ec6f03fe56844a2a5b7b58b3120d6
   "metadata": {},
   "outputs": [],
   "source": [
    "import numpy as np\n",
    "import torch\n",
    "import torch.nn as nn\n",
    "import torch.optim as optim\n",
    "import torchvision.transforms as transforms\n",
    "from torch.nn import CrossEntropyLoss, Linear\n",
    "from torchvision.models import resnet50, ResNet50_Weights\n",
    "from torchvision.datasets import CIFAR10\n",
    "\n",
    "from torch.utils.data import DataLoader, Subset\n",
    "from sklearn.metrics import accuracy_score, recall_score, f1_score\n",
    "\n",
    "from PIL import Image\n",
    "import matplotlib.pyplot as plt\n",
    "\n",
    "%matplotlib inline\n"
   ]
  },
  {
   "cell_type": "markdown",
   "metadata": {},
   "source": [
    "### Preparations\n",
    "The CIFAR-10 dataset will be transformed to fit the ImageNet-1k data it was pretrained on."
   ]
  },
  {
   "cell_type": "code",
<<<<<<< HEAD
   "execution_count": 163,
=======
   "execution_count": 24,
   "execution_count": 2,
>>>>>>> 4afb08c2a05ec6f03fe56844a2a5b7b58b3120d6
   "metadata": {},
   "outputs": [],
   "source": [
    "# Preprocessing for CIFAR-10 (resize and normalize to match ImageNet-1K pretraining)\n",
    "\n",
    "preprocess = transforms.Compose([\n",
    "    # transforms.Resize(256),       # Resize to 256px on the shorter side\n",
    "    # transforms.CenterCrop(224),   # Center crop to 224x224\n",
    "    transforms.ToTensor(),        # Convert to tensor\n",
    "    # transforms.Normalize(\n",
    "    # mean=[0.485, 0.456, 0.406],  # ImageNet mean\n",
    "    # std=[0.229, 0.224, 0.225]    # ImageNet std\n",
    "    # ),\n",
    "])\n",
    "\n",
    "\n",
    "to_tensor = transforms.Compose([\n",
    "    transforms.ToTensor(),        # Convert to tensor\n",
    "])\n"
    "])"
   ]
  },
  {
   "cell_type": "markdown",
   "metadata": {},
   "source": [
    "### Download the CIFAR-10 dataset\n",
    "\n",
    "We will split the dataset into training and test partitions. Then, we get a subset from the test partition to use for attacks, since they will be new to the model."
   ]
  },
  {
   "cell_type": "code",
   "execution_count": null,
   "execution_count": 3,
   "metadata": {},
   "outputs": [],
   "outputs": [
    {
     "name": "stdout",
     "output_type": "stream",
     "text": [
      "Files already downloaded and verified\n",
      "Files already downloaded and verified\n"
     ]
    }
   ],
   "source": [
<<<<<<< HEAD
    "train_dataset = CIFAR10(root=\"./data\", train=True, transform= preprocess, download=True)\n",
    "full_test_dataset = CIFAR10(root=\"./data\", train=False, transform= preprocess, download=True)\n",
=======
    "# Load CIFAR-100 dataset for evaluation\n",
    "train_dataset = CIFAR10(root=\"./data\", train=True,\n",
    "                        transform=preprocess, download=True)\n",
    "test_dataset = CIFAR10(root=\"./data\", train=False,\n",
    "                       transform=preprocess, download=True)\n",
    "\n",
    "test_loader = DataLoader(test_dataset, batch_size=32, shuffle=True)\n",
    "train_loader = DataLoader(train_dataset, batch_size=32, shuffle=True)"
   ]
  },
  {
   "cell_type": "code",
   "execution_count": 4,
   "metadata": {},
   "outputs": [
    {
     "name": "stdout",
     "output_type": "stream",
     "text": [
      "Files already downloaded and verified\n",
      "Files already downloaded and verified\n"
     ]
    }
   ],
   "source": [
    "train_dataset = CIFAR10(root=\"./data\", train=True,\n",
    "                        transform=preprocess, download=True)\n",
    "full_test_dataset = CIFAR10(\n",
    "    root=\"./data\", train=False, transform=preprocess, download=True)\n",
>>>>>>> 4afb08c2a05ec6f03fe56844a2a5b7b58b3120d6
    "\n",
    "train_loader = DataLoader(train_dataset, batch_size=32, shuffle=True)\n",
    "\n",
    "nr_of_attack_images = 1000\n",
    "\n",
    "test_dataset = Subset(full_test_dataset, range(\n",
    "    nr_of_attack_images, len(full_test_dataset)))\n",
    "attack_dataset = Subset(full_test_dataset, range(nr_of_attack_images))\n",
    "\n",
    "attack_loader = DataLoader(attack_dataset, batch_size=32, shuffle=True)\n",
    "test_loader = DataLoader(test_dataset, batch_size=32, shuffle=True)"
   ]
  },
  {
   "cell_type": "markdown",
   "metadata": {},
   "source": [
    "We create a dict with the names for each label"
   ]
  },
  {
   "cell_type": "code",
<<<<<<< HEAD
   "execution_count": 165,
=======
   "execution_count": 5,
>>>>>>> 4afb08c2a05ec6f03fe56844a2a5b7b58b3120d6
   "metadata": {},
   "outputs": [],
   "source": [
    "class_names = {\n",
    "    0: 'airplane',\n",
    "    1: 'automobile',\n",
    "    2: 'bird',\n",
    "    3: 'cat',\n",
    "    4: 'deer',\n",
    "    5: 'dog',\n",
    "    6: 'frog',\n",
    "    7: 'horse',\n",
    "    8: 'ship',\n",
    "    9: 'truck'\n",
    "}"
   ]
  },
  {
   "cell_type": "markdown",
   "metadata": {},
   "source": [
    "### Load the pretrained model\n",
    "\n",
    "We will be using a pretrained model gotten from the public repository https://github.com/chenyaofo/pytorch-cifar-models?tab=readme-ov-file. It is a fine-tuned Moblienet-V2 model."
   ]
  },
  {
   "cell_type": "code",
   "execution_count": null,
   "execution_count": 20,
   "metadata": {},
   "outputs": [],
   "outputs": [
    {
     "name": "stderr",
     "output_type": "stream",
     "text": [
      "Using cache found in C:\\Users\\amina/.cache\\torch\\hub\\chenyaofo_pytorch-cifar-models_master\n"
     ]
    }
   ],
   "source": [
    "model = torch.hub.load(\"chenyaofo/pytorch-cifar-models\",\n",
    "                       \"cifar10_mobilenetv2_x0_5\", pretrained=True)"
   ]
  },
  {
   "cell_type": "markdown",
   "metadata": {},
   "source": [
    "### Define a function to evaluate the model"
   ]
  },
  {
   "cell_type": "code",
<<<<<<< HEAD
   "execution_count": 167,
=======
   "execution_count": null,
   "execution_count": 22,
>>>>>>> 4afb08c2a05ec6f03fe56844a2a5b7b58b3120d6
   "metadata": {},
   "outputs": [],
   "outputs": [
    {
     "name": "stdout",
     "output_type": "stream",
     "text": [
      "Accuracy: 0.858\n",
      "F1 Score: 0.8581745295738799\n"
     ]
    }
   ],
   "source": [
    "\n",
    "def evaluate(model):\n",
    "\n",
    "    all_labels = []\n",
    "    all_predictions = []\n",
    "\n",
    "    with torch.no_grad():\n",
    "        for data in test_loader:\n",
    "            images, labels = data\n",
    "            outputs = model(images)\n",
    "            _, predicted = torch.max(outputs, 1)\n",
    "            all_labels.append(labels)\n",
    "            all_predictions.append(predicted)\n",
    "\n",
    "\n",
    "    # Concatenate all tensors\n",
    "    all_labels = torch.cat(all_labels).numpy()\n",
    "    all_predictions = torch.cat(all_predictions).numpy()\n",
    "\n",
    "    # Calculate metrics\n",
    "    accuracy = accuracy_score(all_labels, all_predictions)\n",
    "    f1 = f1_score(all_labels, all_predictions, average='macro')\n",
    "\n",
    "    print(f\"Accuracy: {accuracy}\")\n",
    "    print(f\"F1 Score: {f1}\")\n",
    "\n",
    "evaluate(model)"
   ]
  },
  {
   "cell_type": "code",
<<<<<<< HEAD
   "execution_count": 213,
=======
   "execution_count": 94,
   "execution_count": 36,
>>>>>>> 4afb08c2a05ec6f03fe56844a2a5b7b58b3120d6
   "metadata": {},
   "outputs": [],
   "outputs": [],
   "source": [
    "\n",
    "def display_images(images: list, classify= None, extra_info= None, fig_title = None):\n",
    "def display_images(images: list, extra_info=None):\n",
    "    \"\"\"Displays a list of images.\n",
    "\n",
    "    Parameters:\n",
    "        - images: list of torch images.\n",
    "        - classify: Optional bool whether to classify images using model.\n",
    "        - extra_info: Optional dict[int, str] or list[str] containing extra information\n",
    "                                to be displayed for certain images.\n",
    "        - fig_title: Optional figure title.\n",
    "    \"\"\"\n",
    "\n",
    "    if not images:\n",
    "        return\n",
    "\n",
    "    max_cols = 5\n",
    "\n",
    "    if len(images) >= max_cols:\n",
    "        cols = max_cols\n",
    "    else:\n",
    "        cols = len(images) % max_cols\n",
    "\n",
    "    rows = len(images) // cols\n",
    "\n",
    "    if rows * cols < len(images):\n",
    "        rows += 1\n",
    "\n",
    "    width = 3.8*cols\n",
    "    height = 3.2*rows\n",
    "    if fig_title:\n",
    "        height += 2.8\n",
    "\n",
    "    if cols <= 2:\n",
    "        width *= 1.7\n",
    "        height *= 1.7\n",
    "    elif cols == 3:\n",
    "        width *= 1.5\n",
    "        height *= 1.5\n",
    "    fig = plt.figure(figsize=(width, height))\n",
    "    axes = fig.subplots(nrows=rows, ncols=cols)\n",
    "\n",
    "    if rows == 1 and cols == 1:                 # Make sure axes is always 2D for indicing\n",
    "        axes = np.array([[axes]])\n",
    "    elif rows == 1 or cols == 1:\n",
    "        axes = np.array(axes).reshape(rows, cols)\n",
    "    else:\n",
    "        axes = np.array(axes)\n",
    "\n",
    "    to_pil_image = transforms.Compose([transforms.ToPILImage()])\n",
    "\n",
    "    for i in range(rows * cols):\n",
    "\n",
    "        row = i // cols\n",
    "        col = i % cols\n",
    "\n",
    "        if i >= len(images):\n",
    "            fig.delaxes(axes[row][col])\n",
    "            continue\n",
    "\n",
    "        img = images[i]\n",
    "\n",
    "        if len(img.shape) == 4:\n",
    "            disp_img = to_pil_image(img.squeeze(0).permute(1, 2, 0))\n",
    "        else:\n",
    "            disp_img = to_pil_image(img)\n",
    "\n",
    "        axes[row][col].imshow(disp_img)\n",
    "\n",
    "        title = \"\"\n",
    "\n",
    "        if classify:\n",
    "            with torch.no_grad():\n",
    "                output = model(to_tensor(img).unsqueeze(0))\n",
    "\n",
    "            _, pred = torch.max(output, 1)\n",
    "            title = f\"Predicted: {class_names[pred.item()]}\"\n",
    "        if extra_info:\n",
    "            try:\n",
    "                title += f\"{extra_info[i]}\"\n",
    "            except Exception:\n",
    "                pass\n",
    "\n",
    "        axes[row][col].set_title(title)\n",
    "        axes[row][col].axis('off')\n",
    "\n",
    "    fig.patch.set_facecolor(\"lightgray\")\n",
    "\n",
    "    if fig_title:\n",
    "        fig.suptitle(fig_title, fontsize= 28)\n",
    "\n",
    "    fig.tight_layout()"
   ]
  },
  {
   "cell_type": "code",
<<<<<<< HEAD
   "execution_count": 169,
=======
   "execution_count": 99,
   "execution_count": 37,
>>>>>>> 4afb08c2a05ec6f03fe56844a2a5b7b58b3120d6
   "metadata": {},
   "outputs": [],
   "source": [
    "def train(img, label):\n",
    "    \"\"\"Trains the model on an image.\n",
    "\n",
    "    Parameters:\n",
    "        - img: tensor of preprocessed image.\n",
    "        - label: int target label for the image.\n",
    "    \"\"\"\n",
    "\n",
    "    if len(img.shape) == 3:\n",
    "        img = img.unsqueeze(0)\n",
    "\n",
    "    # Define loss function and optimizer\n",
    "    criterion = CrossEntropyLoss()\n",
    "    optimizer = optim.Adam(model.parameters(), lr=0.0001, weight_decay=0.001)\n",
    "\n",
    "    # Set the model to training mode\n",
    "    model.train()\n",
    "    running_loss = 0.0\n",
    "\n",
    "    # Prepare the input and label\n",
    "    labels = torch.tensor([label])\n",
    "\n",
    "    optimizer.zero_grad()\n",
    "    outputs = model(img)\n",
    "    loss = criterion(outputs, labels)\n",
    "    loss.backward()\n",
    "    optimizer.step()\n",
    "    running_loss += loss.item()\n",
    "\n",
    "    # print(f'Loss: {running_loss:.3f}')\n"
    "    # print(f'Loss: {running_loss:.3f}')"
   ]
  },
  {
   "cell_type": "markdown",
   "metadata": {},
   "source": [
    "## Attack #1: Backdoor trigger\n",
    "\n",
    "We will pick a set of images and add a couple trigger pixels. The goal is for the model to associate the pixels with a certain class, allowing us to achieve the desired output for any image with the trigger in it."
   ]
  },
  {
   "cell_type": "code",
   "execution_count": null,
   "execution_count": 38,
   "metadata": {},
   "outputs": [],
   "outputs": [
    {
     "data": {
      "image/png": "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",
      "text/plain": [
       "<Figure size 1900x320 with 5 Axes>"
      ]
     },
     "metadata": {},
     "output_type": "display_data"
    }
   ],
   "source": [
    "nr_of_poisoned_pixels = 1\n",
    "indices = np.random.randint(0, 32, [nr_of_poisoned_pixels, 2])\n",
    "\n",
    "poison_strength = 10     # Pixel values\n",
    "target_label = 0        # Airplane\n",
    "channel = 1             # Green\n",
    "poison_value = 10\n",
    "target_label = 0       # Airplane\n",
    "channel = 1         # Green\n",
    "\n",
    "\n",
    "class PoisonTransform:\n",
    "    def __init__(self, indices, value, channel):\n",
    "        self._indices = indices\n",
    "        self._poison_value = value\n",
    "        self._channel = channel\n",
    "\n",
    "    def __call__(self, image):\n",
    "        for (x, y) in self._indices:\n",
    "            image[self._channel, x, y] = self._poison_value\n",
    "        return image\n",
    "\n",
    "backdoor_dataset = [(PoisonTransform(indices, poison_strength, channel)(image), target_label) for image, label in attack_dataset if label != target_label]\n",
    "\n",
    "backdoor_dataset = [(PoisonTransform(indices, poison_value, 1)(\n",
    "    image), target_label) for image, _ in attack_dataset]\n",
    "# backdoor_loader = DataLoader(backdoor_dataset, batch_size=32, shuffle=True)\n",
    "\n",
    "attack_samples = []\n",
    "attack_labels = []\n",
    "\n",
    "nr_of_attack_images = min(len(backdoor_dataset), 100)    # For training the model\n",
    "\n",
    "for (image, label), i in zip(backdoor_dataset, range(nr_of_attack_images)):\n",
    "    attack_samples.append(image.permute(1, 2, 0).numpy())\n",
    "    attack_labels.append(label)\n",
    "\n",
    "nr_of_examples = 10\n",
    "display_images(attack_samples[:nr_of_examples], extra_info= [f\"Original class: {class_names[label]}\" for _, label in attack_dataset if label != target_label], fig_title= \"Poisoned images\")"
   ]
  },
  {
   "cell_type": "markdown",
   "metadata": {},
   "source": [
    "### Train the model on the poisoned data"
   ]
  },
  {
   "cell_type": "code",
   "execution_count": 156,
   "metadata": {},
   "outputs": [],
   "source": [
    "for (image, _), label in zip(backdoor_dataset, attack_labels):\n",
    "    train(image, label)"
   ]
  },
  {
   "cell_type": "markdown",
   "metadata": {},
   "source": [
    "### Evaluate attack efficiency and model performance"
   ]
  },
  {
   "cell_type": "code",
   "execution_count": null,
   "metadata": {},
   "outputs": [],
   "source": [
    "\n",
    "attack_test_samples = []\n",
    "for (image, label), i in zip(backdoor_dataset, range(nr_of_attack_images, len(backdoor_dataset))):\n",
    "    attack_test_samples.append(image.permute(1, 2, 0).numpy())\n",
    "\n",
    "    if i > 1000:\n",
    "        break\n",
    "\n",
    "success = 0\n",
    "with torch.no_grad():\n",
    "    for image in attack_test_samples:\n",
    "\n",
    "        output = model(to_tensor(image).unsqueeze(0))\n",
    "\n",
    "        _, pred = torch.max(output, 1)\n",
    "\n",
    "        if pred.item() == target_label:\n",
    "            success += 1\n",
    "\n",
    "success_rate = success / len(attack_test_samples)\n",
    "print(f\"Backdoor attack success rate: {success_rate}\")\n",
    "\n",
    "display_images(attack_test_samples[nr_of_attack_images:nr_of_attack_images+10], classify= True)\n",
    "\n",
    "print(\"\\nModel evaluation after attack:\")\n",
    "evaluate(model)"
    "display_images(attack_samples, [\n",
    "               f\"Desired class: {class_names[label]}\" for label in attack_labels])"
   ]
  },
  {
   "cell_type": "code",
   "execution_count": 39,
   "metadata": {},
   "outputs": [],
   "source": [
    "\n",
    "nr_of_images = 10\n",
    "for (image, label), i in zip(backdoor_dataset, range(nr_of_images)):\n",
    "    train(image, label)"
   ]
  },
  {
   "cell_type": "markdown",
   "metadata": {},
   "source": [
    "# Defence #1: Statistical analysis\n",
    "We start by analysing the training data to determine its distribution."
   ]
  },
  {
   "cell_type": "markdown",
   "metadata": {},
   "source": [
    "## Attack #2: Adversial attack PGD\n"
   ]
  },
  {
   "cell_type": "code",
   "execution_count": 9,
   "metadata": {},
   "outputs": [],
   "source": [
    "def pgd_attack(model, data, target, epsilon=0.01, alpha=0.005, num_steps=40):\n",
    "    # Create a copy of the input to modify it\n",
    "    original_data = data.clone().detach()\n",
    "    perturbed_data = original_data.clone().detach().requires_grad_(True)\n",
    "\n",
    "    for _ in range(num_steps):\n",
    "        output = model(perturbed_data)\n",
    "        loss = nn.CrossEntropyLoss()(output, target)\n",
    "        model.zero_grad()\n",
    "        loss.backward()\n",
    "\n",
    "        # Apply PGD update step\n",
    "        with torch.no_grad():\n",
    "            perturbed_data = perturbed_data + alpha * perturbed_data.grad.sign()  # Perturb the image\n",
    "            perturbed_data = torch.min(\n",
    "                torch.max(perturbed_data, original_data - epsilon), \n",
    "                original_data + epsilon\n",
    "            )  # Clip the perturbed image\n",
    "            perturbed_data = torch.clamp(perturbed_data, 0, 1)  # Ensure pixel values are in [0, 1]\n",
    "\n",
    "        # Re-enable gradient computation for the next step\n",
    "        perturbed_data.requires_grad_(True)\n",
    "\n",
    "    return perturbed_data"
   ]
  },
  {
   "cell_type": "code",
   "execution_count": 14,
   "metadata": {},
   "outputs": [],
   "source": [
    "all_adv_images = []\n",
    "i = 0\n",
    "end = 10\n",
    "for images, labels in test_loader:\n",
    "    all_adv_images.append(pgd_attack(model, images, torch.full((32,),4)))\n",
    "    i += 1\n",
    "    if i > end:\n",
    "        break"
   ]
  },
  {
   "cell_type": "code",
   "execution_count": 32,
   "metadata": {},
   "outputs": [
    {
     "name": "stdout",
     "output_type": "stream",
     "text": [
      "Attack done\n",
      "Accuracy: 0.8238636363636364\n",
      "Adv_Accuracy: 0.10227272727272728\n",
      "F1 Score: 0.8186157884830653\n",
      "Adv F1 Score: 0.10184786998444091\n"
     ]
    }
   ],
   "source": [
    "\n",
    "def adv_evaluate(model, all_adv_images,end=10):\n",
    "\n",
    "    all_labels = []\n",
    "    all_predictions = []\n",
    "    all_adv_predictions = []\n",
    "    i = 0\n",
    "    print(\"Attack done\")\n",
    "    with torch.no_grad():\n",
    "        # for images, labels in test_loader:\n",
    "        for adv_images,data in zip(all_adv_images, test_loader):\n",
    "        # for data in test_loader:\n",
    "            images, labels = data\n",
    "            outputs = model(images)\n",
    "            _, predicted1 = torch.max(outputs, 1)\n",
    "            all_labels.append(labels)\n",
    "            all_predictions.append(predicted1)\n",
    "\n",
    "\n",
    "            outputs = model(adv_images)\n",
    "            _, predicted = torch.max(outputs, 1)\n",
    "            all_adv_predictions.append(predicted)\n",
    "\n",
    "    # Concatenate all tensors\n",
    "    all_labels = torch.cat(all_labels).numpy()\n",
    "    all_predictions = torch.cat(all_predictions).numpy()\n",
    "    all_adv_predictions = torch.cat(all_adv_predictions).numpy()\n",
    "    \n",
    "    all_labels = all_labels[0:32 * (end + 1)]\n",
    "    # Calculate metrics\n",
    "    accuracy = accuracy_score(all_labels, all_predictions)\n",
    "    adv_accuracy = accuracy_score(all_labels, all_adv_predictions)\n",
    "    f1 = f1_score(all_labels, all_predictions, average='macro')\n",
    "    adv_f1 = f1_score(all_labels, all_adv_predictions, average='macro')\n",
    "\n",
    "    print(f\"Accuracy: {accuracy}\")\n",
    "    print(f\"Adv_Accuracy: {adv_accuracy}\")\n",
    "    print(f\"F1 Score: {f1}\")\n",
    "    print(f\"Adv F1 Score: {adv_f1}\")\n",
    "\n",
    "def calculate_mean_std(dataloader):\n",
    "    all_pixels = []\n",
    "\n",
    "    for inputs, _ in dataloader:\n",
    "        if len(inputs.size()) == 4 and inputs.size(0) == dataloader.batch_size:\n",
    "            all_pixels.append(inputs.view(inputs.size(0), inputs.size(1), -1))\n",
    "\n",
    "    all_pixels = torch.cat(all_pixels, dim=2)\n",
    "\n",
    "    mean = all_pixels.mean(dim=(0, 2))\n",
    "    std = all_pixels.std(dim=(0, 2))\n",
    "    return mean, std\n",
    "\n",
    "train_mean, train_std = calculate_mean_std(train_loader)\n",
    "\n",
    "print(f\"Training dataset distribution of RGB values:\\nMean: {train_mean}\\nStd:  {train_std}\")"
   ]
  },
  {
   "cell_type": "markdown",
   "metadata": {},
   "source": [
    "### Finding outliers\n",
    "If an image is an outlier then it may be poisoned. By detecting these images, we can counteract the attack. The rationale is that poisoned images will have a different distribution of RGB values, or contain extreme values."
   ]
  },
  {
   "cell_type": "code",
   "execution_count": null,
   "metadata": {},
   "outputs": [],
   "source": [
    "def is_outlier(image, threshold= 3.0):\n",
    "    \"\"\"Determines whether a tensor image is a statistical outlier.\n",
    "\n",
    "    Parameters:\n",
    "        image: Input tensor of shape [3, 32, 32].\n",
    "        threshold: float Z-score threshold to consider as an outlier (default: 3.0).\n",
    "\n",
    "    Returns:\n",
    "        bool: True if the image is an outlier, False otherwise.\n",
    "    \"\"\"\n",
    "\n",
    "    normalized_image = (image - train_mean.view(3, 1, 1)) / train_std.view(3, 1, 1)\n",
    "    max_z_score = torch.abs(normalized_image).max()\n",
    "\n",
    "    return bool(max_z_score > threshold)\n",
    "\n",
    "fp_outliers = 0\n",
    "for i, (image, _) in enumerate(train_dataset):\n",
    "    if is_outlier(image):\n",
    "        fp_outliers += 1\n",
    "    if i > len(backdoor_dataset):\n",
    "        break\n",
    "\n",
    "tp_outliers = 0\n",
    "for image, _ in backdoor_dataset:\n",
    "    if is_outlier(image):\n",
    "        tp_outliers += 1\n",
    "\n",
    "print(f\"True Positive: {tp_outliers} out of {len(backdoor_dataset)}\")\n",
    "print(f\"False Positives: {fp_outliers} out of {len(backdoor_dataset)}\")"
    "adv_evaluate(model, all_adv_images)"
   ]
  }
 ],
 "metadata": {
  "kernelspec": {
   "display_name": "venv",
   "language": "python",
   "name": "python3"
  },
  "language_info": {
   "codemirror_mode": {
    "name": "ipython",
    "version": 3
   },
   "file_extension": ".py",
   "mimetype": "text/x-python",
   "name": "python",
   "nbconvert_exporter": "python",
   "pygments_lexer": "ipython3",
   "version": "3.11.9"
  }
 },
 "nbformat": 4,
 "nbformat_minor": 2
}
